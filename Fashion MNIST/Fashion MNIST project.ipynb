{
 "cells": [
  {
   "cell_type": "code",
   "execution_count": 1,
   "id": "dbc62c30",
   "metadata": {},
   "outputs": [],
   "source": [
    "import numpy as np\n",
    "import pandas as pd\n",
    "import matplotlib.pyplot as plt\n",
    "import seaborn as sns\n",
    "plt.style.use('seaborn')\n",
    "import tensorflow.keras as tk\n",
    "from sklearn.decomposition import PCA\n",
    "from sklearn.neighbors import KNeighborsClassifier\n",
    "from sklearn.linear_model import LogisticRegression\n",
    "import sklearn.metrics as metrics\n",
    "from sklearn.model_selection import KFold\n",
    "from sklearn.model_selection import cross_val_score\n",
    "from sklearn.model_selection import GridSearchCV\n",
    "from sklearn.ensemble import RandomForestClassifier"
   ]
  },
  {
   "cell_type": "code",
   "execution_count": 2,
   "id": "060eba3b",
   "metadata": {},
   "outputs": [],
   "source": [
    "fashion_mnist = tk.datasets.fashion_mnist\n",
    "(X_train_full, y_train_full), (X_test, y_test) = fashion_mnist.load_data()"
   ]
  },
  {
   "cell_type": "code",
   "execution_count": 3,
   "id": "aecc799c",
   "metadata": {},
   "outputs": [],
   "source": [
    "x_train = np.reshape(X_train_full, (60000, 28*28))"
   ]
  },
  {
   "cell_type": "code",
   "execution_count": 4,
   "id": "480e7d0e",
   "metadata": {},
   "outputs": [],
   "source": [
    "x_train = x_train/255"
   ]
  },
  {
   "cell_type": "code",
   "execution_count": 5,
   "id": "add3bd70",
   "metadata": {},
   "outputs": [
    {
     "data": {
      "text/plain": [
       "(60000, 784)"
      ]
     },
     "execution_count": 5,
     "metadata": {},
     "output_type": "execute_result"
    }
   ],
   "source": [
    "x_train.shape"
   ]
  },
  {
   "cell_type": "code",
   "execution_count": 6,
   "id": "71dd7426",
   "metadata": {},
   "outputs": [],
   "source": [
    "pca = PCA(n_components=0.95)\n",
    "x_reduced = pca.fit_transform(x_train)"
   ]
  },
  {
   "cell_type": "code",
   "execution_count": null,
   "id": "91560e08",
   "metadata": {},
   "outputs": [],
   "source": [
    "k_range = list(range(1, 17))\n",
    "scores = []\n",
    "for k in k_range:\n",
    "    knn = KNeighborsClassifier(n_neighbors=k)\n",
    "    knn.fit(x_reduced, y_train_full)\n",
    "    pred = knn.predict(x_reduced)\n",
    "    scores.append(metrics.accuracy_score(y_train_full, pred))\n",
    "    \n",
    "plt.plot(k_range, scores)\n",
    "plt.xlabel('Value of K for KNN')\n",
    "plt.ylabel('Testing Accuracy')"
   ]
  },
  {
   "cell_type": "code",
   "execution_count": null,
   "id": "15c77f76",
   "metadata": {},
   "outputs": [],
   "source": [
    "plt.plot(k_range, scores)\n",
    "plt.xlabel('Value of K for KNN')\n",
    "plt.ylabel('Testing Accuracy')"
   ]
  },
  {
   "cell_type": "markdown",
   "id": "47b72e3a",
   "metadata": {},
   "source": [
    "K=1 would be over-fitting and k=2 won't be good (if there are 2 neighbors and each one says something different, it would be hard to decide).\n",
    "Thus, it seems that the best choice is k=3.\n",
    "To be sure, we'll do another check, this time- using KFold and checking the mean score of each k and its std."
   ]
  },
  {
   "cell_type": "code",
   "execution_count": null,
   "id": "c3df90a0",
   "metadata": {},
   "outputs": [],
   "source": [
    "kf = KFold(n_splits=10, random_state=42, shuffle=True)"
   ]
  },
  {
   "cell_type": "code",
   "execution_count": null,
   "id": "09dac97d",
   "metadata": {},
   "outputs": [],
   "source": [
    "k_range = list(range(1, 17))\n",
    "k_mean_scores = []\n",
    "k_std_scores = []\n",
    "for k in k_range:\n",
    "    knn = KNeighborsClassifier(n_neighbors=k)\n",
    "    scores = cross_val_score(knn, x_reduced, y_train_full, cv=kf, scoring='accuracy')\n",
    "    k_mean_scores.append(scores.mean())\n",
    "    k_std_scores.append(scores.std())\n",
    "\n",
    "d = {'k_mean': k_mean_scores, 'k_std': k_std_scores}\n",
    "Ks = pd.DataFrame(data = d, index=k_range)"
   ]
  },
  {
   "cell_type": "code",
   "execution_count": null,
   "id": "1135e905",
   "metadata": {},
   "outputs": [],
   "source": [
    "Ks['k_mean'].sort_values(ascending=False).head(10)"
   ]
  },
  {
   "cell_type": "code",
   "execution_count": null,
   "id": "3b97ec41",
   "metadata": {},
   "outputs": [],
   "source": [
    "Ks['k_std'].sort_values(ascending=True)"
   ]
  },
  {
   "cell_type": "markdown",
   "id": "51eff394",
   "metadata": {},
   "source": [
    "we'll see that we can't be sure which k is the best to take, so we'll try to decide by doing Grid search"
   ]
  },
  {
   "cell_type": "code",
   "execution_count": null,
   "id": "5a0180f0",
   "metadata": {},
   "outputs": [],
   "source": [
    "knn=KNeighborsClassifier()\n",
    "k_range = list(range(3,17,2))\n",
    "print(k_range)\n",
    "weight_options = ['uniform', 'distance']\n",
    "metrics_options = ['euclidean', 'manhattan']\n",
    "param_grid = dict(n_neighbors=k_range, weights=weight_options, metric=metrics_options)\n",
    "grid=GridSearchCV(knn, param_grid, cv=kf, scoring='accuracy')\n",
    "print(\"getting to fit\")\n",
    "grid.fit(x_reduced, y_train_full)\n",
    "print(grid.best_score_)\n",
    "print(grid.best_params_)"
   ]
  },
  {
   "cell_type": "markdown",
   "id": "ef783879",
   "metadata": {},
   "source": [
    "As we can see from the GridSearch, the best k to choose is k=5"
   ]
  },
  {
   "cell_type": "code",
   "execution_count": null,
   "id": "cf7e7b98",
   "metadata": {},
   "outputs": [],
   "source": [
    "our_best_knn = KNeighborsClassifier(n_neighbors=5, metric='manhattan', weights='distance')"
   ]
  },
  {
   "cell_type": "code",
   "execution_count": null,
   "id": "43b113a4",
   "metadata": {},
   "outputs": [],
   "source": [
    "random_for = RandomForestClassifier()\n",
    "randomfor_score = cross_val_score(random_for, x_reduced, y_train_full, cv=kf, scoring='accuracy').mean()\n",
    "print(randomfor_score)"
   ]
  },
  {
   "cell_type": "code",
   "execution_count": null,
   "id": "1d4711cd",
   "metadata": {},
   "outputs": [],
   "source": [
    "from sklearn.naive_bayes import GaussianNB\n",
    "naive_bay = GaussianNB()\n",
    "bayes_score = cross_val_score(naive_bay, x_reduced, y_train_full, cv=kf, scoring='accuracy').mean()\n",
    "print(bayes_score)"
   ]
  },
  {
   "cell_type": "code",
   "execution_count": null,
   "id": "0d447d13",
   "metadata": {
    "scrolled": false
   },
   "outputs": [],
   "source": [
    "from sklearn.linear_model import LogisticRegression\n",
    "logis_reg = LogisticRegression(max_iter=2000, multi_class='multinomial')\n",
    "reg_score = cross_val_score(logis_reg, x_reduced, y_train_full, cv=kf, scoring='accuracy').mean()\n",
    "print(reg_score)"
   ]
  },
  {
   "cell_type": "code",
   "execution_count": null,
   "id": "dad131a1",
   "metadata": {},
   "outputs": [],
   "source": [
    "from sklearn.ensemble import AdaBoostClassifier\n",
    "adac = AdaBoostClassifier(base_estimator=logis_reg, n_estimators=200, learning_rate=1.0, algorithm='SAMME.R', random_state=42)\n",
    "adac.fit(X_traina, y_traina)\n",
    "adac_score = cross_val_score(adac, x_reduced, y_train_full, cv=kf, scoring='accuracy').mean()\n",
    "print(adac_score)"
   ]
  },
  {
   "cell_type": "markdown",
   "id": "9e04edaa",
   "metadata": {},
   "source": [
    "We can see that the KNN model gives us the best results. Thus, we'll choose it to be our final model."
   ]
  },
  {
   "cell_type": "code",
   "execution_count": null,
   "id": "05e4168e",
   "metadata": {},
   "outputs": [],
   "source": [
    "def get_data_ready(data):\n",
    "    re_data = np.reshape(data, (len(data), 28*28))\n",
    "    re_data = re_data/255\n",
    "    final_data = pca.transform(re_data)\n",
    "    return final_data"
   ]
  },
  {
   "cell_type": "code",
   "execution_count": null,
   "id": "f3078685",
   "metadata": {},
   "outputs": [],
   "source": [
    "test = get_data_ready(X_test)"
   ]
  },
  {
   "cell_type": "code",
   "execution_count": null,
   "id": "16fe8e97",
   "metadata": {},
   "outputs": [],
   "source": [
    "our_best_knn.fit(x_reduced, y_train_full)\n",
    "final_predict = our_best_knn.predict(test)\n",
    "print('Final accuracy score of model is: ', accuracy_score(y_test,final_predict))"
   ]
  },
  {
   "cell_type": "code",
   "execution_count": null,
   "id": "2b776c50",
   "metadata": {},
   "outputs": [],
   "source": []
  }
 ],
 "metadata": {
  "kernelspec": {
   "display_name": "Python 3",
   "language": "python",
   "name": "python3"
  },
  "language_info": {
   "codemirror_mode": {
    "name": "ipython",
    "version": 3
   },
   "file_extension": ".py",
   "mimetype": "text/x-python",
   "name": "python",
   "nbconvert_exporter": "python",
   "pygments_lexer": "ipython3",
   "version": "3.8.8"
  }
 },
 "nbformat": 4,
 "nbformat_minor": 5
}
