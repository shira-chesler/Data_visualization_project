{
 "cells": [
  {
   "cell_type": "markdown",
   "id": "dd31f03a",
   "metadata": {},
   "source": [
    "<div style=\"color:black;font-size:60px;font-family:Brush Script MT;height:100px\">\n",
    "    hello"
   ]
  },
  {
   "cell_type": "code",
   "execution_count": 1,
   "id": "ed170af6",
   "metadata": {},
   "outputs": [],
   "source": [
    "from operator import index\n",
    "import pandas as pd\n",
    "import os\n",
    "import math\n",
    "import seaborn as sns\n",
    "import matplotlib.pyplot as plt"
   ]
  },
  {
   "cell_type": "markdown",
   "id": "4e342d15",
   "metadata": {},
   "source": [
    "In this project there are four main goals:\n",
    "1. to count how many lines are in a drawing\n",
    "2. to calculate the length of each line and the mean pressure when computing each line\n",
    "3. to check how many hand lifts were in each drawing\n",
    "4. to check if the shape is open or closed (bonus)"
   ]
  },
  {
   "cell_type": "markdown",
   "id": "efa3a3ff",
   "metadata": {},
   "source": [
    "Glossary of Terms:\n",
    "1. df_angles = the data frame that contains the angle difference between consecutive time frames computed by the dy/dx in the time frame.\n",
    "2. indexes = the indexes of the rows in which a line ends in the original data frame."
   ]
  },
  {
   "cell_type": "markdown",
   "id": "ee4dfb00",
   "metadata": {},
   "source": [
    "discription of a 'normal' data frame of a shape:"
   ]
  },
  {
   "cell_type": "markdown",
   "id": "a468ce9a",
   "metadata": {},
   "source": [
    "#### 1. counting how many lines are in a drawing"
   ]
  },
  {
   "cell_type": "markdown",
   "id": "b678cf25",
   "metadata": {},
   "source": [
    "The function 'dist' below gets the x and y coordinates of two points and calculates the distance between them."
   ]
  },
  {
   "cell_type": "code",
   "execution_count": 2,
   "id": "3b11c07d",
   "metadata": {},
   "outputs": [],
   "source": [
    "def dist(x1, y1, x2, y2):\n",
    "    return math.sqrt(pow(x1-x2,2) + pow(y1-y2,2))"
   ]
  },
  {
   "cell_type": "markdown",
   "id": "2e677528",
   "metadata": {},
   "source": [
    "The function 'drop_close_values' gets a list and out of a sequence in which every one of the elements is in difference of 10 from its prior, leaves only the first one (in each sequence, leaves the first one). Then, the function returns the list without any number sequences."
   ]
  },
  {
   "cell_type": "code",
   "execution_count": 324,
   "id": "a7b834d1",
   "metadata": {},
   "outputs": [],
   "source": [
    "def drop_close_values(lst): \n",
    "    indexes_to_drop = []\n",
    "    for i in range(len(lst)-1):\n",
    "        if (lst[i+1]<lst[i]+9):\n",
    "            indexes_to_drop.append(lst[i+1])\n",
    "    new_list = [index for index in lst if index not in indexes_to_drop]\n",
    "    return new_list"
   ]
  },
  {
   "cell_type": "markdown",
   "id": "d2ceda55",
   "metadata": {},
   "source": [
    "the function 'len_from_point_to_point' gets a data frame and two indexes, then returns the length of the line that sapreads between the points of the two indexes."
   ]
  },
  {
   "cell_type": "code",
   "execution_count": 325,
   "id": "83b9eab9",
   "metadata": {},
   "outputs": [],
   "source": [
    "def len_from_point_to_point(df, a, b): #function that checks the length of a line between two points\n",
    "    return df[(df.index > a) & (df.index <= b)]['dist'].sum()"
   ]
  },
  {
   "cell_type": "markdown",
   "id": "905adf4a",
   "metadata": {},
   "source": [
    "the function 'average_angle_of_line' gets df_angles and two indexes, then returns the mean of the angles of the line that spreads between the points of the two indexes."
   ]
  },
  {
   "cell_type": "code",
   "execution_count": 326,
   "id": "60557c99",
   "metadata": {},
   "outputs": [],
   "source": [
    "def average_angle_of_line(df_angles, index1, index2):\n",
    "    return df_angles[(df_angles.index > index1) & (df_angles.index <= index2)]['ANG'].mean()"
   ]
  },
  {
   "cell_type": "markdown",
   "id": "3ddb956a",
   "metadata": {},
   "source": [
    "the function 'find_mergable_lines' is called from the function 'avoid_little_unwanted_lines'.\n",
    "\n",
    "When searcing for lines we often gets lines that are very small and are probably a mistake of the first attempt to recognize the lines in the 'find_lines_by_angle_and_dist' function.\n",
    "\n",
    "The function 'avoid_little_unwanted_lines' tries to reduce the amount of those 'mistake' lines and does that by picking those little lines, calculating the average angle of the line and checking if this average angle is about the same angle as the previous or the next line (and if it is, it means that we had a jump in the angle when starting the little line, but it was a deviation in the kids' drawing and not a beginning of a new line).\n",
    "\n",
    "'find_mergable_lines' gets as parameters: df_angles,\n",
    "\n",
    "indexes_to_drop = the list of indexes we need to drop from the 'indexes' list we have found so far,\n",
    "\n",
    "index = the index that the line we're checking starts with,\n",
    "\n",
    "prev = the index that the line before the line we're checking starts with,\n",
    "\n",
    "nex = the index that the line we're checking ends with and the line after the line we're checking starts with,\n",
    "\n",
    "nextnex = the index that the line after the line we're checking ends with,\n",
    "\n",
    "n = the maximal angle change between to consecutive lines that we still consider the two lines as one,\n",
    "\n",
    "need_to_go_again = parameter for the 'avoid_little_unwanted_lines' function, to let it know we're about to change the 'indexes' list, which means the number of the lines and length of each line is about to change and we need to run the loop in the 'avoid_little_unwanted_lines' function again,\n",
    "\n",
    "change_p = a parameter that is passed and indicates that we're inside the for loop in the 'avoid_little_unwanted_lines' function,\n",
    "\n",
    "need_to_go_again_p = a parameter that is passed and indicates that we're out of the for loop in the 'avoid_little_unwanted_lines' function.\n",
    "\n",
    "the function finds the average angle of the current line, it's previous' and nexts', checks if the angle between the is smaller than n and adds the end/ start of the line that we want to merge to the other one to the 'indexes_to_drop' list. It returns the updated 'indexes_to_drop' list and the value of the 'need_to_go_again' parameter (True or False)."
   ]
  },
  {
   "cell_type": "code",
   "execution_count": 376,
   "id": "a8f6e045",
   "metadata": {},
   "outputs": [],
   "source": [
    "def find_mergable_lines(df_angles, indexes_to_drop, index, prev, nex, nextnex, n, need_to_go_again, change_p, need_to_go_again_p):\n",
    "    change = False\n",
    "    little_line_ang = average_angle_of_line(df_angles, index, nex) #the average angle of the current line\n",
    "    next_line_ang = average_angle_of_line(df_angles, nex, nextnex)  #the average angle of the next line\n",
    "    previous_line_ang = average_angle_of_line(df_angles, prev, index)  #the average angle of the previous line\n",
    "    \n",
    "    if(abs(little_line_ang-previous_line_ang)<=n):\n",
    "        indexes_to_drop.append(index) #we want to merge the current line to its' previous\n",
    "        previous_line_ang = average_angle_of_line(df_angles, prev, nex) #the angle of the new-merged line\n",
    "        change = True\n",
    "        need_to_go_again = True\n",
    "        \n",
    "    elif(abs(little_line_ang-next_line_ang)<=n):\n",
    "        indexes_to_drop.append(nex) #we want to merge the current line to its' next\n",
    "        next_line_ang = average_angle_of_line(df_angles, index, nextnex) #the angle of the new-merged line\n",
    "        change = True\n",
    "        need_to_go_again = True\n",
    "        \n",
    "        \n",
    "    if (change_p == True): #if we're inside the for loop \n",
    "        if(abs(previous_line_ang-next_line_ang)<=n and (change == True)): #and we've done a change in this run of the loop\n",
    "            indexes_to_drop.append(index)\n",
    "            indexes_to_drop.append(nex)\n",
    "\n",
    "    elif (need_to_go_again_p == True): #if we're out the for loop \n",
    "        if(abs(previous_line_ang-next_line_ang)<=n and (need_to_go_again == True)): #and we've done a change in this run of the bigger - while loop\n",
    "            indexes_to_drop.append(index)\n",
    "            indexes_to_drop.append(nex)\n",
    "        \n",
    "    return need_to_go_again, indexes_to_drop"
   ]
  },
  {
   "cell_type": "markdown",
   "id": "3d58864e",
   "metadata": {},
   "source": [
    "As explained earlier, the 'avoid_little_unwanted_lines' finds the little lines we want to merge into bigger ones, merges them and terurns the updated list of 'indexes'."
   ]
  },
  {
   "cell_type": "code",
   "execution_count": 380,
   "id": "c40ae773",
   "metadata": {},
   "outputs": [],
   "source": [
    "def avoid_little_unwanted_lines(df_angles, indexes):\n",
    "    indexes_to_drop = []\n",
    "    change = False\n",
    "    need_to_go_again = True\n",
    "    n = 10 #the difference size of the angle that two consecutive lines has still counts as one\n",
    "    x = 100.0 #the size of a line that counts as 'little' line\n",
    "    \n",
    "    while (need_to_go_again == True): #while we made a change in the lines during the previous run of the loop\n",
    "        indexes_to_drop = []\n",
    "        need_to_go_again = False\n",
    "        if (len(indexes)>3):\n",
    "            for index in range(1, len(indexes)-2):\n",
    "                line = len_from_point_to_point(df, indexes[index], indexes[index+1]) #length of line that starts in index\n",
    "                if (line < x):\n",
    "                    need_to_go_again, indexes_to_drop = find_mergable_lines(df_angles, indexes_to_drop, indexes[index], indexes[index-1], indexes[index+1],\n",
    "                                        indexes[index+2], n, need_to_go_again, True, False)\n",
    "                \n",
    "        if (len(indexes)>0):\n",
    "            if(len_from_point_to_point(df, 0, indexes[0]) < x): #same check as in the 'find_mergable_lines' but for the extreme case in which the line dosen't have previous\n",
    "                little_line_ang = average_angle_of_line(df_angles, 0, indexes[0])\n",
    "                next_line_ang = average_angle_of_line(df_angles, indexes[0], indexes[1])\n",
    "                if(abs(little_line_ang-next_line_ang)<=n):\n",
    "                        indexes_to_drop.append(indexes[0])\n",
    "                        need_to_go_again = True\n",
    "\n",
    "        if (len(indexes)>1):\n",
    "            if(len_from_point_to_point(df, indexes[0], indexes[1]) < x):\n",
    "                need_to_go_again, indexes_to_drop = find_mergable_lines(df_angles, indexes_to_drop, indexes[0], 0, indexes[1],\n",
    "                                        indexes[2], n, need_to_go_again, False, True)\n",
    "\n",
    "        if (len(indexes)>2):\n",
    "            if(len_from_point_to_point(df, indexes[len(indexes)-2], indexes[len(indexes)-1]) < x):\n",
    "                need_to_go_again, indexes_to_drop = find_mergable_lines(df_angles, indexes_to_drop, indexes[len(indexes)-2], indexes[len(indexes)-3],\n",
    "                                        indexes[len(indexes)-1], len(df_angles)-1, n, need_to_go_again, False, True)\n",
    "\n",
    "        if (len(indexes)>1):        \n",
    "            if(len_from_point_to_point(df, indexes[len(indexes)-1], len(df)-1) < x):#same check as in the 'find_mergable_lines' but for the extreme case in which the line dosen't have next\n",
    "                little_line_ang = average_angle_of_line(df_angles, indexes[len(indexes)-1], len(df_angles)-1)\n",
    "                previous_line_ang = average_angle_of_line(df_angles, indexes[len(indexes)-2], indexes[len(indexes)-1])\n",
    "                if(abs(little_line_ang-previous_line_ang)<= n):\n",
    "                        indexes_to_drop.append(len(indexes)-1)\n",
    "                        need_to_go_again = True\n",
    "        indexes_to_drop = set(indexes_to_drop)\n",
    "        indexes = [index for index in indexes if index not in indexes_to_drop]\n",
    "\n",
    "    indexes_to_drop = set(indexes_to_drop)\n",
    "    indexes = [index for index in indexes if index not in indexes_to_drop]\n",
    "    \n",
    "    return indexes"
   ]
  },
  {
   "cell_type": "markdown",
   "id": "4fddc66b",
   "metadata": {},
   "source": [
    "The 'find_lines_by_angle_and_dist' gets as parameters a data frame os a shape and a boolean 'to_print'. it returns the list 'indexes' (see entry 2 in the glossary of terms), and by the value of 'to_print' it prints\\ dosen't print the number of line in the shape."
   ]
  },
  {
   "cell_type": "code",
   "execution_count": 381,
   "id": "db0191db",
   "metadata": {},
   "outputs": [],
   "source": [
    "def find_lines_by_angle_and_dist(df, to_print):\n",
    "    indexes = []\n",
    "    lst = []\n",
    "    df1 = pd.DataFrame({'Y_DIF': df[' Y'].diff()})\n",
    "    df2 = pd.DataFrame({'X_DIF': df['X'].diff()})\n",
    "    \n",
    "    df_change = pd.concat([df1, df2, df[' Time'], df[' Pressure']], axis=1)\n",
    "    df_change.drop(df_change.head(1).index, inplace=True) #the values in df1, df2 in the first row are always NaN\n",
    "    df_change = df_change[df_change['X_DIF'] != 0] #due to the fact we're going to calculate dy/dx, dx needs to be defined (not 0)\n",
    "    df_angles = pd.DataFrame({'ANG': (df_change['Y_DIF']/df_change['X_DIF']).apply(lambda x: math.degrees(math.atan(x))), \n",
    "                             ' Time': df_change[' Time'], ' Pressure': df_change[' Pressure']})\n",
    "    df_angles['diff'] = df_angles['ANG'].diff()\n",
    "    df_angles.drop(df_angles.head(1).index, inplace=True) #first row is NaN at column 'diff'\n",
    "    df_angles['idx'] = df_angles.index\n",
    "    df_angles['ave_ang'] = df_angles['idx'].apply(lambda x: df_angles['ANG'][(df_angles.index > x) & (df_angles.index <= x+5)].mean())\n",
    "    df_angles.drop(df_angles.tail(1).index, inplace=True) #last line doedn't have average of next angles\n",
    "    df_angles.drop(['idx'], axis=1, inplace=True)\n",
    "    df_angles = df_angles.reset_index() #indexes at df_angles are not consecutive\n",
    "    \n",
    "    for point in df_angles.index:\n",
    "        if ((df_angles.loc[point, 'diff'] > 30 and df_angles.loc[point, 'diff'] < 160) or \n",
    "            (df_angles.loc[point, 'diff'] < -30 and df_angles.loc[point, 'diff'] > -160)): #change of angles that implies on start of a new line\n",
    "            if (point -1 < 0):\n",
    "                continue\n",
    "            if (abs(df_angles.loc[point-1, 'ANG'] - df_angles.loc[point, 'ave_ang']) > 30 and\n",
    "               abs(df_angles.loc[point-1, 'ANG'] - df_angles.loc[point, 'ave_ang']) < 160):\n",
    "                indexes.append(df_angles.loc[point, 'index'])\n",
    "    \n",
    "    if (df['dist'].std()>2*df['dist'].median()): #change in distance between two consecutive time points that implies on start of a new line\n",
    "        lst = df[df['dist'] > (df['dist'].median()+(df['dist'].std()/2))].index.values.tolist()\n",
    "    \n",
    "    \n",
    "    indexes = sorted(indexes + lst)\n",
    "    indexes = drop_close_values(indexes)\n",
    "    \n",
    "    \n",
    "    indexes_to_drop = []\n",
    "    flag = True\n",
    "    \n",
    "    while(flag == True): #droping lines that are too short to be intentional\n",
    "        if (len(indexes)==0):\n",
    "            break\n",
    "        indexes_to_drop = []\n",
    "        flag = False\n",
    "        if (len_from_point_to_point(df, 0, indexes[0]) <= 16.0):\n",
    "            indexes_to_drop.append(indexes[0])\n",
    "            flag = True\n",
    "        if (len_from_point_to_point(df, indexes[len(indexes)-1], len(df)-1) <= 16.0):\n",
    "            indexes_to_drop.append(indexes[len(indexes)-1])\n",
    "            flag = True\n",
    "        for i in range(1, len(indexes)):\n",
    "            if (len_from_point_to_point(df, indexes[i-1], indexes[i]) <= 16.0):\n",
    "                indexes_to_drop.append(indexes[i])\n",
    "                flag = True\n",
    "        indexes = [index for index in indexes if index not in indexes_to_drop]\n",
    "    \n",
    "    \n",
    "    df_angles = df_angles.set_index('index')\n",
    "    if (len(indexes)!=0):\n",
    "        indexes = avoid_little_unwanted_lines(df_angles, indexes)\n",
    "\n",
    "    \n",
    "    num_of_lines = len(indexes) + 1 # +1 is adding the end of the last line that is not in the 'indexes' list\n",
    "    \n",
    "    if (to_print==True):\n",
    "        print(\"Number of lines in shape is: \", num_of_lines)\n",
    "    \n",
    "    return list(indexes)"
   ]
  },
  {
   "cell_type": "markdown",
   "id": "152f5589",
   "metadata": {},
   "source": [
    "#### 2. calculating the length of each line and the mean pressure when computing each line:"
   ]
  },
  {
   "cell_type": "code",
   "execution_count": 353,
   "id": "570cea3b",
   "metadata": {},
   "outputs": [],
   "source": [
    "def find_lines_length_by_index(df, indexes):\n",
    "    #df is the dataframe, indexes is a list of the start/ end points of each line in the drawing (end of one is the start of another)\n",
    "    if (len(indexes)==0):\n",
    "        print(\"Total length: \", df['dist'].sum())\n",
    "        return\n",
    "        \n",
    "    elif (len(indexes)==1):\n",
    "        print(\"Length of line 1: \", df[df.index <= indexes[0]]['dist'].sum())\n",
    "        print(\"Length of line 2: \", df[df.index > indexes[0]]['dist'].sum())\n",
    "        return\n",
    "        \n",
    "    for i in range(len(indexes)):\n",
    "        if (i==0):\n",
    "            print(\"Length of line 1: \", df[df.index <= indexes[0]]['dist'].sum())\n",
    "        elif (i==len(indexes)-1):\n",
    "            print(\"Length of line \", (i+1), \": \", df[(df.index > indexes[i-1]) & (df.index <= indexes[i])]['dist'].sum())\n",
    "            print(\"Length of line \", len(indexes) + 1,\": \", df[df.index > indexes[len(indexes)-1]]['dist'].sum())\n",
    "        else:\n",
    "            print(\"Length of line \", (i+1), \": \", df[(df.index > indexes[i-1]) & (df.index <= indexes[i])]['dist'].sum())"
   ]
  },
  {
   "cell_type": "code",
   "execution_count": 354,
   "id": "9487b1d1",
   "metadata": {},
   "outputs": [],
   "source": [
    "def find_lines_pressure_by_index(df, indexes):\n",
    "    if (len(indexes)==0):\n",
    "        print(\"Average pressure: \", df[' Pressure'].mean())\n",
    "        return\n",
    "    \n",
    "    elif (len(indexes)==1):\n",
    "        print(\"Average pressure of line 1: \", df[df.index <= indexes[0]][' Pressure'].mean())\n",
    "        print(\"Average pressure of line 2: \", df[df.index > indexes[0]][' Pressure'].mean())\n",
    "        return\n",
    "        \n",
    "    for i in range(len(indexes)):\n",
    "        if (i==0):\n",
    "            print(\"Average pressure of line 1: \", df[df.index <= indexes[0]][' Pressure'].mean())\n",
    "        elif (i==len(indexes)-1):\n",
    "            print(\"Average pressure of line \", (i+1), \": \", df[(df.index > indexes[i-1]) & (df.index <= indexes[i])][' Pressure'].mean())\n",
    "            print(\"Average pressure of line \", len(indexes) + 1,\": \", df[df.index > indexes[len(indexes)-1]][' Pressure'].mean())\n",
    "        else:\n",
    "            print(\"Average pressure of line \", (i+1), \": \", df[(df.index > indexes[i-1]) & (df.index <= indexes[i])][' Pressure'].mean())"
   ]
  },
  {
   "cell_type": "markdown",
   "id": "de4ad627",
   "metadata": {},
   "source": [
    "#### 3. checking how many hand lifts were in each drawing"
   ]
  },
  {
   "cell_type": "code",
   "execution_count": 183,
   "id": "f35e38d5",
   "metadata": {},
   "outputs": [],
   "source": [
    "def find_hand_off_by_pressure(df):\n",
    "    ave_pressure = df[' Pressure'].mean()\n",
    "    min_pressure = df[' Pressure'].min()\n",
    "    max_pressure = df[' Pressure'].max()\n",
    "    smallest_values = df[df[' Pressure'] < (min_pressure + max_pressure)/2].sort_index()\n",
    "    smallest_values['idx'] = smallest_values.index\n",
    "    smallest_values['idx_shift'] = smallest_values.shift()['idx']\n",
    "    smallest_values.drop(smallest_values.head(1).index,inplace=True)\n",
    "    num_of_hand_lifts = (smallest_values['idx']-smallest_values['idx_shift']).apply(lambda x: 0 if x==1.0 else 1).sum() + 1\n",
    "    print(\"The number of hand lifts computed by pressure is: \", num_of_hand_lifts)"
   ]
  },
  {
   "cell_type": "markdown",
   "id": "800965d2",
   "metadata": {},
   "source": [
    "#### 4. checking if the shape is open or closed"
   ]
  },
  {
   "cell_type": "code",
   "execution_count": 348,
   "id": "45b5ddc3",
   "metadata": {},
   "outputs": [],
   "source": [
    "def find_line(df, indexes, point):\n",
    "    my_line = 0\n",
    "    sta_idx = 0\n",
    "    end_idx = 0\n",
    "    if (point < indexes[0]):\n",
    "        my_line = 0\n",
    "        sta_idx = 0\n",
    "        end_idx = indexes[0]\n",
    "    elif (point > indexes[len(indexes)-1]):\n",
    "        my_line = len(indexes) + 1\n",
    "        sta_idx = indexes[len(indexes)-1]\n",
    "        end_idx = len(df)\n",
    "    else:\n",
    "        for line in range(1, len(indexes)):\n",
    "            if (point > indexes[line-1] and point < indexes[line]):\n",
    "                my_line = line + 1\n",
    "                sta_idx = indexes[line-1]\n",
    "                end_idx = indexes[line]\n",
    "    return my_line, sta_idx, end_idx   "
   ]
  },
  {
   "cell_type": "code",
   "execution_count": 349,
   "id": "dc972b7d",
   "metadata": {},
   "outputs": [],
   "source": [
    "def which_lines_are_meetings(df, indexes):\n",
    "    ave_radius = 0\n",
    "    meet_list = []\n",
    "    my_line = 0\n",
    "    skipin = 0\n",
    "    skipout = 0\n",
    "    if (len(indexes)==0):\n",
    "        ave_radius = df['dist'].mean()\n",
    "        #print(ave_radius)\n",
    "        for point in df.index:\n",
    "            if (skipout > 0):\n",
    "                skipout = skipout - 1\n",
    "                continue\n",
    "            for point2 in df.index:\n",
    "                if (skipin > 0):\n",
    "                    skipin = skipin - 1\n",
    "                    continue\n",
    "                elif ((point2>=point-10) and (point2<=point+10)):\n",
    "                    continue\n",
    "                elif (dist(df.loc[point, 'X'], df.loc[point, ' Y'], df.loc[point2, 'X'], df.loc[point2, ' Y']) < (ave_radius + df['dist'].std())):\n",
    "                    meet_list.append([1, 1, min(point, point2), max(point, point2)])\n",
    "                    skipin = 3\n",
    "                    skipout = 3\n",
    "                else:\n",
    "                    continue\n",
    "                    \n",
    "    else:\n",
    "        for point in df.index:\n",
    "            if (skipout > 0):\n",
    "                skipout = skipout - 1\n",
    "                continue\n",
    "            my_line, start_line, end_line = find_line(df, indexes, point)\n",
    "            ave_radius = df[(df.index >= start_line) & (df.index < end_line)]['dist'].mean()\n",
    "            for point2 in df.index:\n",
    "                if (skipin > 0):\n",
    "                    skipin = skipin - 1\n",
    "                    continue\n",
    "                elif ((point2>=point-10) and (point2<=point+10)):\n",
    "                    continue\n",
    "                elif (dist(df.loc[point, 'X'], df.loc[point, ' Y'], df.loc[point2, 'X'], df.loc[point2, ' Y']) < (ave_radius + df['dist'].std())):\n",
    "                    point2_line, start2, end2 = find_line(df, indexes, point2)\n",
    "                    meet_list.append([min(my_line, point2_line), max(my_line, point2_line), min(point, point2), max(point, point2)])\n",
    "                    skipin = 3\n",
    "                    skipout = 3\n",
    "                else:\n",
    "                    continue\n",
    "                    \n",
    "    if (len(meet_list) == 0):\n",
    "        return (False, [])\n",
    "    \n",
    "    return (True, pd.DataFrame(meet_list).sort_values(by=[2]))"
   ]
  },
  {
   "cell_type": "code",
   "execution_count": 350,
   "id": "bb699296",
   "metadata": {},
   "outputs": [],
   "source": [
    "def make_intersections(df, indexes):\n",
    "    b, table = which_lines_are_meetings(df, indexes)\n",
    "    if b:\n",
    "        rows_to_drop = []\n",
    "        table = table.reset_index()\n",
    "        table.drop('index', axis=1, inplace=True)\n",
    "        \n",
    "        for i in range(0, len(table)-1):\n",
    "            if (table.loc[i+1, 2] < table.loc[i, 2] + 10):\n",
    "                rows_to_drop.append(i+1)\n",
    "        \n",
    "        table.drop(rows_to_drop, inplace=True)\n",
    "        table = table.reset_index()\n",
    "        table.drop('index', axis=1, inplace=True)\n",
    "        return (True, table.loc[0: , :1])\n",
    "    \n",
    "    else:\n",
    "        return (False, [])"
   ]
  },
  {
   "cell_type": "code",
   "execution_count": 351,
   "id": "f79a53ec",
   "metadata": {},
   "outputs": [],
   "source": [
    "def find_circle_recursive(table, start, idx_check, lst):\n",
    "    for i in range(len(table)):\n",
    "        if (table.loc[i, 1] == start):\n",
    "            return True\n",
    "        if ((i==len(table)-1) & (table.loc[i, 0]!=idx_check)):\n",
    "            return False\n",
    "        if (table.loc[i, 0] == idx_check):\n",
    "            if (len(lst)!=0):\n",
    "                for edge in lst:\n",
    "                    if (edge == idx_check):\n",
    "                        return True\n",
    "            b = find_circle_recursive(table, start, table.loc[i, 1], lst.append(idx_check))\n",
    "            if b:\n",
    "                return b\n",
    "            lst.remove(idx_check)\n",
    "    return False"
   ]
  },
  {
   "cell_type": "code",
   "execution_count": 352,
   "id": "e56cb41f",
   "metadata": {},
   "outputs": [],
   "source": [
    "def is_shape_closed(df, indexes):\n",
    "    boolian = False\n",
    "    b, table = make_intersections(df, indexes)\n",
    "    if b:\n",
    "        for row in table.index:\n",
    "            if (table.loc[row, 0] == table.loc[row, 1]):\n",
    "                boolian = True\n",
    "\n",
    "        for row in table.index:\n",
    "            for row2 in table.index:\n",
    "                if (row == row2):\n",
    "                    continue\n",
    "                if ((table.loc[row, 0] == table.loc[row2, 0]) and (table.loc[row, 1] == table.loc[row2, 1])):\n",
    "                    boolian = True\n",
    "    \n",
    "        if (boolian == False):\n",
    "             for i in table.index:\n",
    "                    boolian = find_circle_recursive(table, table.loc[i, 0], table.loc[i, 1], [])\n",
    "    \n",
    "        return boolian\n",
    "    \n",
    "    else:\n",
    "        return False"
   ]
  },
  {
   "cell_type": "markdown",
   "id": "162f8d25",
   "metadata": {},
   "source": [
    "testing functions:"
   ]
  },
  {
   "cell_type": "code",
   "execution_count": null,
   "id": "f9c0c3be",
   "metadata": {},
   "outputs": [],
   "source": [
    "for dir in os.listdir(\"C:/אריאל/שנה א/סמסטר ב/הדמיית נתונים/Data_visualization_project/Working with pandas - kids drawings project/data\"):\n",
    "    if os.path.isdir(\"C:/אריאל/שנה א/סמסטר ב/הדמיית נתונים/Data_visualization_project/Working with pandas - kids drawings project/data/\"+dir):\n",
    "        full_dir = \"C:/אריאל/שנה א/סמסטר ב/הדמיית נתונים/Data_visualization_project/Working with pandas - kids drawings project/data/\" + dir + \"/SimpleTest/\"\n",
    "        for file in os.listdir(full_dir):\n",
    "            if file.endswith('.csv'):\n",
    "                if (file == \"12.csv\"):\n",
    "                    print(full_dir+file)\n",
    "                    df = pd.read_csv(full_dir+file)\n",
    "                    df.drop(df.tail(2).index, inplace=True) #last two lines appers only on the 'X' column and contains summary of drawing time\n",
    "                    if (df.shape[0] < 2): #less than 2 rows means that the file is empty\n",
    "                        continue\n",
    "                    df['X'] = df['X'].astype('float64')\n",
    "                    df[' Time'] = pd.to_datetime(df[' Time'])\n",
    "                    df[' Pressure'] = df[' Pressure'] * 100 #in order to see things more clearly in the graphs\n",
    "                    df['dist'] = (df['X'].diff()**2 + df[' Y'].diff()**2).apply(lambda x: math.sqrt(x)) #the distance between point to the previous one\n",
    "                    #df.drop(df.head(1).index, inplace=True) #the first measurment dosen't have distance because it dosen't have a previous point\n",
    "                    \n",
    "                    #find_hand_off_by_pressure(df)\n",
    "                    #find_lines_length_by_index(df)\n",
    "                    \n",
    "                    \n",
    "                    sns.lineplot(data=df,y='dist', x=' Time')\n",
    "                    sns.lineplot(data=df,y=' Pressure', x=' Time')\n",
    "                    plt.show() #distance-Time graph with added line for pressure"
   ]
  },
  {
   "cell_type": "code",
   "execution_count": null,
   "id": "5a5cec84",
   "metadata": {},
   "outputs": [],
   "source": []
  }
 ],
 "metadata": {
  "kernelspec": {
   "display_name": "Python 3",
   "language": "python",
   "name": "python3"
  },
  "language_info": {
   "codemirror_mode": {
    "name": "ipython",
    "version": 3
   },
   "file_extension": ".py",
   "mimetype": "text/x-python",
   "name": "python",
   "nbconvert_exporter": "python",
   "pygments_lexer": "ipython3",
   "version": "3.8.8"
  }
 },
 "nbformat": 4,
 "nbformat_minor": 5
}
