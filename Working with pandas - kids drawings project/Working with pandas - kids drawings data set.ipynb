{
 "cells": [
  {
   "cell_type": "code",
   "execution_count": 1,
   "id": "6293b928",
   "metadata": {},
   "outputs": [],
   "source": [
    "from operator import index\n",
    "import pandas as pd\n",
    "import os\n",
    "import math\n",
    "import seaborn as sns\n",
    "import matplotlib.pyplot as plt"
   ]
  },
  {
   "cell_type": "markdown",
   "id": "e7f383e0",
   "metadata": {},
   "source": [
    "In this project there are four main goals:\n",
    "1. to count how many lines are in a drawing\n",
    "2. to calculate the length of each line and the mean pressure when computing each line\n",
    "3. to check how many hand lifts were in each drawing\n",
    "4. to check if the shape is open or closed (bonus)"
   ]
  },
  {
   "cell_type": "markdown",
   "id": "f4d43c88",
   "metadata": {},
   "source": [
    "### Attempts to goal no' 1 - count how many lines are in a drawing:"
   ]
  },
  {
   "cell_type": "code",
   "execution_count": null,
   "id": "5ef45fe0",
   "metadata": {},
   "outputs": [],
   "source": []
  },
  {
   "cell_type": "markdown",
   "id": "f77538a8",
   "metadata": {},
   "source": [
    "#### 2. calculating the length of each line and the mean pressure when computing each line:"
   ]
  },
  {
   "cell_type": "code",
   "execution_count": null,
   "id": "2ce09307",
   "metadata": {},
   "outputs": [],
   "source": [
    "def find_lines_length_and_pressure_by_index(df, indexes):\n",
    "    #df is the dataframe, indexes is a list of the start/ end points of each line in the drawing (end of one is the start of another)\n",
    "    if (len(indexes)==0):\n",
    "        print(\"Average pressure: \", df[' Pressure'].mean())\n",
    "        print(\"Total length: \", df['dist'].sum())\n",
    "        \n",
    "    for i in range(len(indexes)):\n",
    "        if (i==0):\n",
    "            print(\"Average pressure of line 1: \", df[df.index < indexes[0]][' Pressure'].mean())\n",
    "            print(\"Length of line 1: \", df[df.index < indexes[0]]['dist'].sum())\n",
    "        elif (i==len(indexes)-1):\n",
    "            print(\"Average pressure of line \", len(indexes),\": \", df[df.index > indexes[len(indexes)-1]][' Pressure'].mean())\n",
    "            print(\"Length of line \", len(indexes),\": \", df[df.index > indexes[len(indexes)-1]]['dist'].sum())\n",
    "        else:\n",
    "            print(\"Average pressure of line \", (i+1), \": \", df[(df.index > indexes[i-1]) and (df.index < indexes[i])][' Pressure'].mean())\n",
    "            print(\"Length of line \", (i+1), \": \", df[(df.index > indexes[i-1]) and (df.index < indexes[i])]['dist'].sum())"
   ]
  },
  {
   "cell_type": "markdown",
   "id": "dc6523aa",
   "metadata": {},
   "source": [
    "#### 3. checking how many hand lifts were in each drawing"
   ]
  },
  {
   "cell_type": "code",
   "execution_count": null,
   "id": "7878f262",
   "metadata": {},
   "outputs": [],
   "source": [
    "def find_hand_off_by_pressure(df):\n",
    "    ave_pressure = df[' Pressure'].mean()\n",
    "    min_pressure = df[' Pressure'].min()\n",
    "    max_pressure = df[' Pressure'].max()\n",
    "    smallest_values = df[df[' Pressure'] < (min_pressure + max_pressure)/2].sort_index()\n",
    "    smallest_values['idx'] = smallest_values.index\n",
    "    smallest_values['idx_shift'] = smallest_values.shift()['idx']\n",
    "    smalest_values = smalest_values.drop([0])\n",
    "    num_of_hand_lifts = (smallest_values['idx']-smallest_values['idx_shift']).apply(lambda x: 0 if x==1.0 else 1).sum() + 1\n",
    "    print(\"The number of hand lifts computed by pressure is: \", num_of_hand_lifts)"
   ]
  },
  {
   "cell_type": "markdown",
   "id": "0f940469",
   "metadata": {},
   "source": [
    "#### 4. checking if the shape is open or closed"
   ]
  },
  {
   "cell_type": "code",
   "execution_count": null,
   "id": "4cc6d2d5",
   "metadata": {},
   "outputs": [],
   "source": [
    "def is_shape_open(df):\n",
    "    bool = False\n",
    "    for point in df.rows:\n",
    "        for point2 in df.rows:\n",
    "            if (point==point2):\n",
    "                continue\n",
    "            elif ((pow((df[point]['X']-df[point2]['X']),2) + pow((df[point][' Y']-df[point2][' Y']),2)).apply(lambda x: math.sqrt(x)) < averageradius):\n",
    "                bool = True\n",
    "                break\n",
    "    return bool"
   ]
  },
  {
   "cell_type": "code",
   "execution_count": null,
   "id": "61e150ee",
   "metadata": {},
   "outputs": [],
   "source": []
  }
 ],
 "metadata": {
  "kernelspec": {
   "display_name": "Python 3",
   "language": "python",
   "name": "python3"
  },
  "language_info": {
   "codemirror_mode": {
    "name": "ipython",
    "version": 3
   },
   "file_extension": ".py",
   "mimetype": "text/x-python",
   "name": "python",
   "nbconvert_exporter": "python",
   "pygments_lexer": "ipython3",
   "version": "3.8.8"
  }
 },
 "nbformat": 4,
 "nbformat_minor": 5
}
