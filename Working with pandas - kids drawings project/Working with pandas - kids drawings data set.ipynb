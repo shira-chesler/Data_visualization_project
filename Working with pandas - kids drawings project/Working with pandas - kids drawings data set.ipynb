{
 "cells": [
  {
   "cell_type": "code",
   "execution_count": 1,
   "id": "f51fb522",
   "metadata": {},
   "outputs": [],
   "source": [
    "from operator import index\n",
    "import pandas as pd\n",
    "import os\n",
    "import math\n",
    "import seaborn as sns\n",
    "import matplotlib.pyplot as plt"
   ]
  },
  {
   "cell_type": "markdown",
   "id": "26431625",
   "metadata": {},
   "source": [
    "In this project there are four main goals:\n",
    "1. to count how many lines are in a drawing\n",
    "2. to calculate the length of each line and the mean pressure when computing each line\n",
    "3. to check how many hand lifts were in each drawing\n",
    "4. to check if the shape is open or closed (bonus)"
   ]
  },
  {
   "cell_type": "markdown",
   "id": "68772043",
   "metadata": {},
   "source": [
    "### Attempts to goal no' 1 - count how many lines are in a drawing:"
   ]
  },
  {
   "cell_type": "code",
   "execution_count": null,
   "id": "3cae3f90",
   "metadata": {},
   "outputs": [],
   "source": []
  },
  {
   "cell_type": "markdown",
   "id": "e913af0e",
   "metadata": {},
   "source": [
    "#### 2. calculating the length of each line and the mean pressure when computing each line:"
   ]
  },
  {
   "cell_type": "code",
   "execution_count": null,
   "id": "c8a0ad96",
   "metadata": {},
   "outputs": [],
   "source": [
    "def find_lines_length_and_pressure_by_index(df, indexes):\n",
    "    #df is the dataframe, indexes is a list of the start/ end points of each line in the drawing"
   ]
  },
  {
   "cell_type": "markdown",
   "id": "c480e4a6",
   "metadata": {},
   "source": [
    "#### 3. checking how many hand lifts were in each drawing"
   ]
  },
  {
   "cell_type": "code",
   "execution_count": null,
   "id": "307c82de",
   "metadata": {},
   "outputs": [],
   "source": [
    "def find_hand_off_by_pressure(df):\n",
    "    ave_pressure = df[' Pressure'].mean()\n",
    "    min_pressure = df[' Pressure'].min()\n",
    "    max_pressure = df[' Pressure'].max()\n",
    "    smallest_values = df[df[' Pressure'] < (min_pressure + max_pressure)/2].sort_index()\n",
    "    smallest_values['idx'] = smallest_values.index\n",
    "    smallest_values['idx_shift'] = smallest_values.shift()['idx']\n",
    "    smalest_values = smalest_values.drop([0])\n",
    "    num_of_hand_lifts = (smallest_values['idx']-smallest_values['idx_shift']).apply(lambda x: 0 if x==1.0 else 1).sum() + 1\n",
    "    print(\"The number of hand lifts computed by pressure is: \", num_of_hand_lifts)"
   ]
  },
  {
   "cell_type": "code",
   "execution_count": null,
   "id": "625a928c",
   "metadata": {},
   "outputs": [],
   "source": []
  },
  {
   "cell_type": "code",
   "execution_count": null,
   "id": "234f3b6f",
   "metadata": {},
   "outputs": [],
   "source": []
  },
  {
   "cell_type": "code",
   "execution_count": null,
   "id": "204cd0c7",
   "metadata": {},
   "outputs": [],
   "source": []
  }
 ],
 "metadata": {
  "kernelspec": {
   "display_name": "Python 3",
   "language": "python",
   "name": "python3"
  },
  "language_info": {
   "codemirror_mode": {
    "name": "ipython",
    "version": 3
   },
   "file_extension": ".py",
   "mimetype": "text/x-python",
   "name": "python",
   "nbconvert_exporter": "python",
   "pygments_lexer": "ipython3",
   "version": "3.8.8"
  }
 },
 "nbformat": 4,
 "nbformat_minor": 5
}
